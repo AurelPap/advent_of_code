{
 "cells": [
  {
   "cell_type": "code",
   "execution_count": 1,
   "metadata": {},
   "outputs": [],
   "source": [
    "from texte_day1 import *"
   ]
  },
  {
   "cell_type": "markdown",
   "metadata": {},
   "source": [
    "# First step"
   ]
  },
  {
   "cell_type": "code",
   "execution_count": 2,
   "metadata": {},
   "outputs": [
    {
     "name": "stdout",
     "output_type": "stream",
     "text": [
      "55090\n"
     ]
    }
   ],
   "source": [
    "# Création d'une liste dont chaque element est une ligne du texte\n",
    "texte_liste = texte.splitlines()\n",
    "\n",
    "# Création d'une liste vide pour venir accueillir le resultat\n",
    "resultat= []\n",
    "\n",
    "# Pour chaque ligne du texte\n",
    "for ligne in texte_liste:\n",
    "    # Création d'une liste comprenant tous les chiffres\n",
    "    chiffre = [c for c in ligne if c.isdigit()]\n",
    "    # Ajout au resultat du 1er chiffre * 10 + le dernier chiffre\n",
    "    resultat.append(int(chiffre[0] + chiffre[-1]))\n",
    "# Somme des elements de la liste\n",
    "solution = sum(resultat)\n",
    "# Affichage du resultat\n",
    "print(solution)"
   ]
  },
  {
   "cell_type": "markdown",
   "metadata": {},
   "source": [
    "# Second step"
   ]
  },
  {
   "cell_type": "code",
   "execution_count": 4,
   "metadata": {},
   "outputs": [
    {
     "name": "stdout",
     "output_type": "stream",
     "text": [
      "54845\n"
     ]
    }
   ],
   "source": [
    "texte_test = texte\n",
    "\n",
    "# Création d'une liste dont chaque element est une ligne du texte\n",
    "texte_test = texte_test.splitlines()\n",
    "    \n",
    "somme = 0\n",
    "\n",
    "\n",
    "\n",
    "# Pour chaque ligne du texte\n",
    "for ligne in texte_test:\n",
    "    # Création d'une liste vide pour venir accueillir le resultat pour chaque ligne\n",
    "    resultat = []\n",
    "    # Pour chaque caractere\n",
    "    for i_char , char in enumerate(ligne):\n",
    "        if char.isdigit():\n",
    "            resultat.append(char)\n",
    "        # Recherche des chaine de caracter\n",
    "        for i_int , mot in enumerate([\"one\", \"two\", \"three\", \"four\", \"five\", \"six\", \"seven\", \"eight\", \"nine\"]):\n",
    "            if ligne[i_char:].startswith(mot):\n",
    "                resultat.append(str(i_int + 1))\n",
    "    score = str(resultat[0] + resultat[-1])\n",
    "    somme += int(score)\n",
    "# Affichage du resultat\n",
    "print(somme)"
   ]
  }
 ],
 "metadata": {
  "kernelspec": {
   "display_name": "Python 3",
   "language": "python",
   "name": "python3"
  },
  "language_info": {
   "codemirror_mode": {
    "name": "ipython",
    "version": 3
   },
   "file_extension": ".py",
   "mimetype": "text/x-python",
   "name": "python",
   "nbconvert_exporter": "python",
   "pygments_lexer": "ipython3",
   "version": "3.12.0"
  }
 },
 "nbformat": 4,
 "nbformat_minor": 2
}
